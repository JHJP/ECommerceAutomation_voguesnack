{
 "cells": [
  {
   "cell_type": "code",
   "execution_count": 3,
   "metadata": {},
   "outputs": [],
   "source": [
    "from selenium import webdriver\n",
    "from selenium.webdriver.support.ui import WebDriverWait\n",
    "from selenium.webdriver.common.by import By\n",
    "from selenium.webdriver.support import expected_conditions as EC\n",
    "import time\n",
    "from selenium.webdriver.common.action_chains import ActionChains\n",
    "import os.path\n",
    "import pandas as pd\n",
    "from selenium.common.exceptions import NoSuchElementException, NoAlertPresentException\n",
    "from selenium.webdriver.common.alert import Alert\n",
    "from selenium.webdriver.common.keys import Keys\n",
    "from vogueSnack import Sourcing, Uploading, Tool\n",
    "import tkinter as tk\n",
    "from selenium.webdriver.edge.options import Options as EdgeOptions\n",
    "root = tk.Tk()\n",
    "options = EdgeOptions()\n",
    "# Creating and placing the result Text widget\n",
    "result_text = tk.Text(root, height=10, width=50)\n",
    "result_text.pack()\n",
    "# Configure the tag for red text\n",
    "result_text.tag_configure(\"red\", foreground=\"red\")\n",
    "\n",
    "driver = webdriver.Edge(options=options)\n",
    "EdgeTool = Tool(driver, result_text)\n",
    "EdgeSourcing = Sourcing(driver, tool=EdgeTool)\n",
    "EdgeUploading = Uploading(driver, tool=EdgeTool)\n"
   ]
  },
  {
   "cell_type": "code",
   "execution_count": 37,
   "metadata": {},
   "outputs": [
    {
     "name": "stdout",
     "output_type": "stream",
     "text": [
      "[+] Coupang_detailinfo downloaded successfully. Start reading.\n"
     ]
    },
    {
     "name": "stderr",
     "output_type": "stream",
     "text": [
      "c:\\Users\\papag\\OneDrive\\src\\Projects\\vogueSnack\\.venv\\lib\\site-packages\\openpyxl\\worksheet\\_reader.py:329: UserWarning: Unknown extension is not supported and will be removed\n",
      "  warn(msg)\n"
     ]
    },
    {
     "name": "stdout",
     "output_type": "stream",
     "text": [
      "[+] Coupang_detailinfo read with excel successfully.\n"
     ]
    },
    {
     "name": "stderr",
     "output_type": "stream",
     "text": [
      "c:\\Users\\papag\\OneDrive\\src\\Projects\\vogueSnack\\.venv\\lib\\site-packages\\openpyxl\\worksheet\\_reader.py:329: UserWarning: Unknown extension is not supported and will be removed\n",
      "  warn(msg)\n",
      "c:\\Users\\papag\\OneDrive\\src\\Projects\\vogueSnack\\.venv\\lib\\site-packages\\openpyxl\\worksheet\\_reader.py:329: UserWarning: Unknown extension is not supported and will be removed\n",
      "  warn(msg)\n"
     ]
    }
   ],
   "source": [
    "prd_list_coupang_df = EdgeSourcing.downloadChecker('/Users/papag/Downloads', \"Coupang_detailinfo\", first_phase=False)\n",
    "prd_code_coupang_series = prd_list_coupang_df.iloc[:,1]\n",
    "prd_code_coupang_df = prd_code_coupang_series.to_frame(name='prd_code')\n",
    "prd_code_coupang_df.insert(prd_code_coupang_df.columns.get_loc('prd_code') + 1, 'isExist', False)\n",
    "# prd_code_coupang_df.to_csv('prd_code_coupang_df.csv')\n",
    "prd_code_coupang_df.dropna(inplace=True)\n",
    "prd_code_coupang_df.reset_index(drop=True, inplace=True)"
   ]
  },
  {
   "cell_type": "code",
   "execution_count": 38,
   "metadata": {},
   "outputs": [
    {
     "data": {
      "text/html": [
       "<div>\n",
       "<style scoped>\n",
       "    .dataframe tbody tr th:only-of-type {\n",
       "        vertical-align: middle;\n",
       "    }\n",
       "\n",
       "    .dataframe tbody tr th {\n",
       "        vertical-align: top;\n",
       "    }\n",
       "\n",
       "    .dataframe thead th {\n",
       "        text-align: right;\n",
       "    }\n",
       "</style>\n",
       "<table border=\"1\" class=\"dataframe\">\n",
       "  <thead>\n",
       "    <tr style=\"text-align: right;\">\n",
       "      <th></th>\n",
       "      <th>prd_code</th>\n",
       "      <th>isExist</th>\n",
       "    </tr>\n",
       "  </thead>\n",
       "  <tbody>\n",
       "    <tr>\n",
       "      <th>0</th>\n",
       "      <td>CH2286906 심플 노트북 2way백</td>\n",
       "      <td>False</td>\n",
       "    </tr>\n",
       "    <tr>\n",
       "      <th>1</th>\n",
       "      <td>CH2286955 여성 경량 백팩</td>\n",
       "      <td>False</td>\n",
       "    </tr>\n",
       "    <tr>\n",
       "      <th>2</th>\n",
       "      <td>CH2287015 남성 옥스포드 백팩</td>\n",
       "      <td>False</td>\n",
       "    </tr>\n",
       "    <tr>\n",
       "      <th>3</th>\n",
       "      <td>CH2287015 남성 옥스포드 백팩</td>\n",
       "      <td>False</td>\n",
       "    </tr>\n",
       "    <tr>\n",
       "      <th>4</th>\n",
       "      <td>CH2291450 패션 생활 방수 깔끔한 디자인 스러운 여성 고급 백팩</td>\n",
       "      <td>False</td>\n",
       "    </tr>\n",
       "    <tr>\n",
       "      <th>...</th>\n",
       "      <td>...</td>\n",
       "      <td>...</td>\n",
       "    </tr>\n",
       "    <tr>\n",
       "      <th>2942</th>\n",
       "      <td>CH2258349 스카로 야구공 청소기 야구공 자우개 로봇 기계 로봇청소기</td>\n",
       "      <td>False</td>\n",
       "    </tr>\n",
       "    <tr>\n",
       "      <th>2943</th>\n",
       "      <td>CH1881688 신일8000 LED조명 듀얼 회전 무선 물걸레 청소기 무선청소기</td>\n",
       "      <td>False</td>\n",
       "    </tr>\n",
       "    <tr>\n",
       "      <th>2944</th>\n",
       "      <td>CH1768717 분더바 샴푸바</td>\n",
       "      <td>False</td>\n",
       "    </tr>\n",
       "    <tr>\n",
       "      <th>2945</th>\n",
       "      <td>CH2271415 거품 바디 워시 플로럴 향 좋은 등드름 약산성 클렌져</td>\n",
       "      <td>False</td>\n",
       "    </tr>\n",
       "    <tr>\n",
       "      <th>2946</th>\n",
       "      <td>CH2275936 거품 바디워시 플로럴 향 좋은 등드름 클렌져 500ml</td>\n",
       "      <td>False</td>\n",
       "    </tr>\n",
       "  </tbody>\n",
       "</table>\n",
       "<p>2947 rows × 2 columns</p>\n",
       "</div>"
      ],
      "text/plain": [
       "                                           prd_code  isExist\n",
       "0                            CH2286906 심플 노트북 2way백    False\n",
       "1                                CH2286955 여성 경량 백팩    False\n",
       "2                              CH2287015 남성 옥스포드 백팩    False\n",
       "3                              CH2287015 남성 옥스포드 백팩    False\n",
       "4           CH2291450 패션 생활 방수 깔끔한 디자인 스러운 여성 고급 백팩    False\n",
       "...                                             ...      ...\n",
       "2942      CH2258349 스카로 야구공 청소기 야구공 자우개 로봇 기계 로봇청소기    False\n",
       "2943  CH1881688 신일8000 LED조명 듀얼 회전 무선 물걸레 청소기 무선청소기    False\n",
       "2944                              CH1768717 분더바 샴푸바    False\n",
       "2945        CH2271415 거품 바디 워시 플로럴 향 좋은 등드름 약산성 클렌져    False\n",
       "2946       CH2275936 거품 바디워시 플로럴 향 좋은 등드름 클렌져 500ml    False\n",
       "\n",
       "[2947 rows x 2 columns]"
      ]
     },
     "execution_count": 38,
     "metadata": {},
     "output_type": "execute_result"
    }
   ],
   "source": [
    "prd_code_coupang_df.drop(prd_code_coupang_df.index[0:14], inplace=True)\n",
    "prd_code_coupang_df.reset_index(drop=True, inplace=True)\n"
   ]
  },
  {
   "cell_type": "code",
   "execution_count": 40,
   "metadata": {},
   "outputs": [
    {
     "data": {
      "text/html": [
       "<div>\n",
       "<style scoped>\n",
       "    .dataframe tbody tr th:only-of-type {\n",
       "        vertical-align: middle;\n",
       "    }\n",
       "\n",
       "    .dataframe tbody tr th {\n",
       "        vertical-align: top;\n",
       "    }\n",
       "\n",
       "    .dataframe thead th {\n",
       "        text-align: right;\n",
       "    }\n",
       "</style>\n",
       "<table border=\"1\" class=\"dataframe\">\n",
       "  <thead>\n",
       "    <tr style=\"text-align: right;\">\n",
       "      <th></th>\n",
       "      <th>prd_code</th>\n",
       "      <th>isExist</th>\n",
       "    </tr>\n",
       "  </thead>\n",
       "  <tbody>\n",
       "    <tr>\n",
       "      <th>0</th>\n",
       "      <td>CH2286906</td>\n",
       "      <td>False</td>\n",
       "    </tr>\n",
       "    <tr>\n",
       "      <th>1</th>\n",
       "      <td>CH2286955</td>\n",
       "      <td>False</td>\n",
       "    </tr>\n",
       "    <tr>\n",
       "      <th>2</th>\n",
       "      <td>CH2287015</td>\n",
       "      <td>False</td>\n",
       "    </tr>\n",
       "    <tr>\n",
       "      <th>3</th>\n",
       "      <td>CH2287015</td>\n",
       "      <td>False</td>\n",
       "    </tr>\n",
       "    <tr>\n",
       "      <th>4</th>\n",
       "      <td>CH2291450</td>\n",
       "      <td>False</td>\n",
       "    </tr>\n",
       "    <tr>\n",
       "      <th>...</th>\n",
       "      <td>...</td>\n",
       "      <td>...</td>\n",
       "    </tr>\n",
       "    <tr>\n",
       "      <th>2942</th>\n",
       "      <td>CH2258349</td>\n",
       "      <td>False</td>\n",
       "    </tr>\n",
       "    <tr>\n",
       "      <th>2943</th>\n",
       "      <td>CH1881688</td>\n",
       "      <td>False</td>\n",
       "    </tr>\n",
       "    <tr>\n",
       "      <th>2944</th>\n",
       "      <td>CH1768717</td>\n",
       "      <td>False</td>\n",
       "    </tr>\n",
       "    <tr>\n",
       "      <th>2945</th>\n",
       "      <td>CH2271415</td>\n",
       "      <td>False</td>\n",
       "    </tr>\n",
       "    <tr>\n",
       "      <th>2946</th>\n",
       "      <td>CH2275936</td>\n",
       "      <td>False</td>\n",
       "    </tr>\n",
       "  </tbody>\n",
       "</table>\n",
       "<p>2947 rows × 2 columns</p>\n",
       "</div>"
      ],
      "text/plain": [
       "       prd_code  isExist\n",
       "0     CH2286906    False\n",
       "1     CH2286955    False\n",
       "2     CH2287015    False\n",
       "3     CH2287015    False\n",
       "4     CH2291450    False\n",
       "...         ...      ...\n",
       "2942  CH2258349    False\n",
       "2943  CH1881688    False\n",
       "2944  CH1768717    False\n",
       "2945  CH2271415    False\n",
       "2946  CH2275936    False\n",
       "\n",
       "[2947 rows x 2 columns]"
      ]
     },
     "execution_count": 40,
     "metadata": {},
     "output_type": "execute_result"
    }
   ],
   "source": [
    "prd_code_coupang_df['prd_code'] = prd_code_coupang_df['prd_code'].str.split().str[0]\n",
    "prd_code_coupang_df"
   ]
  },
  {
   "cell_type": "code",
   "execution_count": 43,
   "metadata": {},
   "outputs": [
    {
     "data": {
      "text/html": [
       "<div>\n",
       "<style scoped>\n",
       "    .dataframe tbody tr th:only-of-type {\n",
       "        vertical-align: middle;\n",
       "    }\n",
       "\n",
       "    .dataframe tbody tr th {\n",
       "        vertical-align: top;\n",
       "    }\n",
       "\n",
       "    .dataframe thead th {\n",
       "        text-align: right;\n",
       "    }\n",
       "</style>\n",
       "<table border=\"1\" class=\"dataframe\">\n",
       "  <thead>\n",
       "    <tr style=\"text-align: right;\">\n",
       "      <th></th>\n",
       "      <th>prd_code</th>\n",
       "    </tr>\n",
       "  </thead>\n",
       "  <tbody>\n",
       "  </tbody>\n",
       "</table>\n",
       "</div>"
      ],
      "text/plain": [
       "Empty DataFrame\n",
       "Columns: [prd_code]\n",
       "Index: []"
      ]
     },
     "execution_count": 43,
     "metadata": {},
     "output_type": "execute_result"
    }
   ],
   "source": [
    "prd_name_list = pd.read_csv('coupang_suspended_prd.csv')\n",
    "prd_name_list"
   ]
  }
 ],
 "metadata": {
  "kernelspec": {
   "display_name": ".venv",
   "language": "python",
   "name": "python3"
  },
  "language_info": {
   "codemirror_mode": {
    "name": "ipython",
    "version": 3
   },
   "file_extension": ".py",
   "mimetype": "text/x-python",
   "name": "python",
   "nbconvert_exporter": "python",
   "pygments_lexer": "ipython3",
   "version": "3.9.6"
  },
  "orig_nbformat": 4
 },
 "nbformat": 4,
 "nbformat_minor": 2
}
